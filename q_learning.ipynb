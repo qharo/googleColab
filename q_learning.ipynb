{
  "nbformat": 4,
  "nbformat_minor": 0,
  "metadata": {
    "colab": {
      "name": "q-learning.ipynb",
      "provenance": [],
      "collapsed_sections": [],
      "authorship_tag": "ABX9TyNYusk9z+NVlwTwLauQCRBo",
      "include_colab_link": true
    },
    "kernelspec": {
      "name": "python3",
      "display_name": "Python 3"
    }
  },
  "cells": [
    {
      "cell_type": "markdown",
      "metadata": {
        "id": "view-in-github",
        "colab_type": "text"
      },
      "source": [
        "<a href=\"https://colab.research.google.com/github/qharo/googleColab/blob/master/q_learning.ipynb\" target=\"_parent\"><img src=\"https://colab.research.google.com/assets/colab-badge.svg\" alt=\"Open In Colab\"/></a>"
      ]
    },
    {
      "cell_type": "code",
      "metadata": {
        "id": "MCEsmrNFUwth"
      },
      "source": [
        "import gym\n",
        "env = gym.make('FrozenLake-v0')"
      ],
      "execution_count": 2,
      "outputs": []
    },
    {
      "cell_type": "code",
      "metadata": {
        "id": "eUdqlqR0Va-Q",
        "outputId": "11f8cb9a-7601-45fc-abb3-3ae47313a49c",
        "colab": {
          "base_uri": "https://localhost:8080/",
          "height": 52
        }
      },
      "source": [
        "print(env.observation_space.n) #number of observations and actions\n",
        "print(env.action_space.n)"
      ],
      "execution_count": 4,
      "outputs": [
        {
          "output_type": "stream",
          "text": [
            "16\n",
            "4\n"
          ],
          "name": "stdout"
        }
      ]
    },
    {
      "cell_type": "code",
      "metadata": {
        "id": "Spmz1ZBvVg1j",
        "outputId": "39e0d564-9d1e-46a3-a230-4c9eef929f8d",
        "colab": {
          "base_uri": "https://localhost:8080/",
          "height": 34
        }
      },
      "source": [
        "env.reset() #resets environment"
      ],
      "execution_count": 7,
      "outputs": [
        {
          "output_type": "execute_result",
          "data": {
            "text/plain": [
              "0"
            ]
          },
          "metadata": {
            "tags": []
          },
          "execution_count": 7
        }
      ]
    },
    {
      "cell_type": "code",
      "metadata": {
        "id": "nVBlq0hVVoqs",
        "outputId": "107363fc-205d-4b6c-eb10-3394a6859f0f",
        "colab": {
          "base_uri": "https://localhost:8080/",
          "height": 34
        }
      },
      "source": [
        "action = env.action_space.sample()\n",
        "print(action)"
      ],
      "execution_count": 10,
      "outputs": [
        {
          "output_type": "stream",
          "text": [
            "1\n"
          ],
          "name": "stdout"
        }
      ]
    },
    {
      "cell_type": "code",
      "metadata": {
        "id": "zsB9W0NjV9nA"
      },
      "source": [
        "observation, reward, done, info = env.step(action) #performs the action and returns observation and reward and stuff"
      ],
      "execution_count": null,
      "outputs": []
    },
    {
      "cell_type": "code",
      "metadata": {
        "id": "9GqHELkoWHrv"
      },
      "source": [
        "env.render() #renders GUI "
      ],
      "execution_count": null,
      "outputs": []
    },
    {
      "cell_type": "code",
      "metadata": {
        "id": "F69dhO4lWk5v"
      },
      "source": [
        "import gym\n",
        "import numpy as np\n",
        "import time\n",
        "\n",
        "env = gym.make('FrozenLake-v0')\n",
        "STATES = env.observation_space.n\n",
        "ACTIONS = env.action_space.n"
      ],
      "execution_count": 2,
      "outputs": []
    },
    {
      "cell_type": "code",
      "metadata": {
        "id": "eyWRvm2cWzb-",
        "outputId": "9e177823-bfa3-4fdf-a86b-f205cd5b1e49",
        "colab": {
          "base_uri": "https://localhost:8080/",
          "height": 298
        }
      },
      "source": [
        "Q = np.zeros((STATES, ACTIONS))\n",
        "print(Q)"
      ],
      "execution_count": 3,
      "outputs": [
        {
          "output_type": "stream",
          "text": [
            "[[0. 0. 0. 0.]\n",
            " [0. 0. 0. 0.]\n",
            " [0. 0. 0. 0.]\n",
            " [0. 0. 0. 0.]\n",
            " [0. 0. 0. 0.]\n",
            " [0. 0. 0. 0.]\n",
            " [0. 0. 0. 0.]\n",
            " [0. 0. 0. 0.]\n",
            " [0. 0. 0. 0.]\n",
            " [0. 0. 0. 0.]\n",
            " [0. 0. 0. 0.]\n",
            " [0. 0. 0. 0.]\n",
            " [0. 0. 0. 0.]\n",
            " [0. 0. 0. 0.]\n",
            " [0. 0. 0. 0.]\n",
            " [0. 0. 0. 0.]]\n"
          ],
          "name": "stdout"
        }
      ]
    },
    {
      "cell_type": "code",
      "metadata": {
        "id": "1KCn2L3NXPtW"
      },
      "source": [
        "EPISODES = 1000\n",
        "MAX_STEPS = 100\n",
        "\n",
        "LEARNING_RATE = 0.81\n",
        "GAMMA = 0.96\n",
        "\n",
        "epsilon = 0.9"
      ],
      "execution_count": 4,
      "outputs": []
    },
    {
      "cell_type": "code",
      "metadata": {
        "id": "12-Q1ELQYm3n",
        "outputId": "bef83a21-9486-458d-8c28-0d001f58c9bb",
        "colab": {
          "base_uri": "https://localhost:8080/",
          "height": 316
        }
      },
      "source": [
        "rewards = []\n",
        "for episode in range(EPISODES):\n",
        "  state = env.reset()\n",
        "  for _ in range(MAX_STEPS):\n",
        "    if np.random.uniform(0,1) < epsilon:\n",
        "      action = env.action_space.sample()\n",
        "    else:\n",
        "      action = np.argmax(Q[state,:])\n",
        "\n",
        "    next_state, reward, done, info = env.step(action)\n",
        "\n",
        "    Q[state,action] = Q[state, action] + LEARNING_RATE*(reward + GAMMA*np.max(Q[next_state,:]) - Q[state, action])\n",
        "\n",
        "    state = next_state\n",
        "\n",
        "    if done:\n",
        "      rewards.append(reward)\n",
        "      epsilon-=0.001\n",
        "      break\n",
        "\n",
        "print(Q)\n",
        "print(\"Average reward\", sum(rewards)/len(rewards))"
      ],
      "execution_count": 6,
      "outputs": [
        {
          "output_type": "stream",
          "text": [
            "[[7.66401578e-03 1.14883752e-01 7.68611183e-03 7.50504669e-03]\n",
            " [7.38640295e-03 4.25049546e-03 5.34069929e-03 7.23326870e-02]\n",
            " [6.05382641e-03 4.66750157e-03 6.88958812e-03 4.55942046e-02]\n",
            " [2.14800410e-03 5.23933918e-04 1.75937914e-03 4.27985167e-02]\n",
            " [1.91805436e-01 1.73123829e-03 4.32874917e-03 1.81922024e-03]\n",
            " [0.00000000e+00 0.00000000e+00 0.00000000e+00 0.00000000e+00]\n",
            " [4.34817241e-04 1.16665258e-04 9.79050930e-04 1.42783739e-04]\n",
            " [0.00000000e+00 0.00000000e+00 0.00000000e+00 0.00000000e+00]\n",
            " [1.21719148e-03 2.50557503e-03 4.00823813e-03 1.95556255e-01]\n",
            " [1.08800656e-03 3.12003458e-01 4.45084204e-03 1.31310794e-03]\n",
            " [7.54879015e-01 2.96834845e-03 1.49731645e-03 3.03086104e-03]\n",
            " [0.00000000e+00 0.00000000e+00 0.00000000e+00 0.00000000e+00]\n",
            " [0.00000000e+00 0.00000000e+00 0.00000000e+00 0.00000000e+00]\n",
            " [1.89224283e-02 1.16701285e-01 4.20746259e-01 1.53003197e-02]\n",
            " [1.53387620e-01 9.63535104e-01 3.55327683e-01 3.44257009e-01]\n",
            " [0.00000000e+00 0.00000000e+00 0.00000000e+00 0.00000000e+00]]\n",
            "Average reward 0.14\n"
          ],
          "name": "stdout"
        }
      ]
    }
  ]
}